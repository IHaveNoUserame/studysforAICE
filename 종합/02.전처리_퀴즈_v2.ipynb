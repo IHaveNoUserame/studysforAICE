{
 "cells": [
  {
   "cell_type": "markdown",
   "metadata": {
    "id": "471_omVbzt5v"
   },
   "source": [
    "# 전처리 퀴즈"
   ]
  },
  {
   "cell_type": "markdown",
   "metadata": {
    "id": "2tiRXBd_zt50"
   },
   "source": [
    "## 학습목차\n",
    "0. 실습 내용 확인\n",
    "1. 필요 라이브러리 임포트 및 파일 읽어오기\n",
    "2. EDA (Exploratory Data Analysis) 탐색적 데이터 분석\n",
    "3. 데이터 전처리 수행\n",
    " - 불필요 컬럼 삭제\n",
    " - 컬럼 내용 변경하기\n",
    " - Null 처리\n",
    " - 컬럼 type 변경하기\n",
    "4. 시각화\n",
    "5. 결과 저장하기"
   ]
  },
  {
   "cell_type": "markdown",
   "metadata": {
    "id": "C6XPa1owzt50"
   },
   "source": [
    "##  \n",
    "# 0. 실습 내용 확인"
   ]
  },
  {
   "cell_type": "markdown",
   "metadata": {
    "id": "d0UfUo5xzt51"
   },
   "source": [
    "## ** 계약 이탈 예측** \n",
    "### 모든 관련 고객 데이터를 분석하고 강력하고 정확한 이탈 예측 모델을 개발하여 고객을 유지하고 고객 이탈률을 줄이기 위한 전략을 수립합니다.\n",
    "### Churn은 서비스를 중단하거나 업계의 경쟁업체로 이전한 고객 또는 사용자를 의미합니다. 모든 조직이 기존 고객을 유지하고 새로운 고객을 유치하는 것이 매우 중요합니다. 그 중 하나가 실패하면 비즈니스에 좋지 않습니다. 목표는 업계에서 경쟁 우위를 유지하기 위해 이탈 예측을 위한 머신러닝, 딥러닝의 가능성을 탐색하는 것입니다."
   ]
  },
  {
   "cell_type": "markdown",
   "metadata": {
    "id": "fzXI1Ty4zt52"
   },
   "source": [
    "# 1. 필요 라이브러리 임포트 및 파일 읽어오기"
   ]
  },
  {
   "cell_type": "markdown",
   "metadata": {},
   "source": [
    "##### <font color=blue> **[문제] pandas를 pd ,numpy는 np, matplotlib는 plt alias를 지정해서 임포트하세요.** </font>"
   ]
  },
  {
   "cell_type": "code",
   "execution_count": null,
   "metadata": {
    "id": "AwQq6UUFzt54"
   },
   "outputs": [],
   "source": []
  },
  {
   "cell_type": "code",
   "execution_count": null,
   "metadata": {},
   "outputs": [],
   "source": [
    "# 경고메세지 끄기\n",
    "import warnings\n",
    "warnings.filterwarnings(action='ignore')"
   ]
  },
  {
   "cell_type": "markdown",
   "metadata": {
    "id": "BlLqoxDgzt57"
   },
   "source": [
    "####  \n",
    "### <font color=green>읽어올 데이터 파일 : data_v1.csv</font>"
   ]
  },
  {
   "cell_type": "markdown",
   "metadata": {
    "id": "Jt8N_9ybzt58"
   },
   "source": [
    "#### Telco Customer Churn Dataset  컬럼\n",
    "1. CustomerID: Customer ID unique for each customer\n",
    "2. gender: Whether the customer is a male or a female\n",
    "3. SeniorCitizen: Whether the customer is a senior citizen or not (1, 0) : 고령자 여부\n",
    "4. Partner: Whether the customer has a partner or not (Yes, No)\n",
    "5. Dependents: Whether the customer has dependents or not (Yes, No) : 부양가족 여부\n",
    "6. Tenure: Number of months the customer has stayed with the company : 서비스 사용 개월수\n",
    "7. PhoneService: Whether the customer has a phone service or not (Yes, No)\n",
    "8. MultipleLines: Whether the customer has multiple lines or not (Yes, No, No phone service)\n",
    "9. InternetService: Customer’s internet service provider (DSL, Fiber optic, No)\n",
    "10. OnlineSecurity: Whether the customer has online security or not (Yes, No, No internet service)\n",
    "11. OnlineBackup: Whether the customer has an online backup or not (Yes, No, No internet service)\n",
    "12. DeviceProtection: Whether the customer has device protection or not (Yes, No, No internet service)\n",
    "13. TechSupport: Whether the customer has tech support or not (Yes, No, No internet service)\n",
    "14. StreamingTV: Whether the customer has streaming TV or not (Yes, No, No internet service)\n",
    "15. StreamingMovies: Whether the customer has streaming movies or not (Yes, No, No internet service)\n",
    "16. Contract: The contract term of the customer (Month-to-month, One year, Two years)\n",
    "17. PaperlessBilling: Whether the customer has paperless billing or not (Yes, No)\n",
    "18. PaymentMethod: The customer’s payment method (Electronic check, Mailed check, Bank transfer (automatic), Credit card (automatic))\n",
    "19. MonthlyCharges: The amount charged to the customer monthly\n",
    "20. TotalCharges: The total amount charged to the customer\n",
    "21. <font color=red>Churn: Whether the customer churned or not (Yes or No) : 이탈 여부</font>"
   ]
  },
  {
   "cell_type": "markdown",
   "metadata": {},
   "source": [
    "##### <font color=red> **[매우 중요] 분류인가? 회귀인가?** </font>\n",
    "\n"
   ]
  },
  {
   "cell_type": "markdown",
   "metadata": {
    "id": "lPQqI6x-zt58"
   },
   "source": [
    "####  \n",
    "### CSV 파일 데이터 읽어오기"
   ]
  },
  {
   "cell_type": "markdown",
   "metadata": {
    "id": "7XcVbE7lzt59"
   },
   "source": [
    "##### <font color=blue> **[문제] data_v2.csv 파일을 Pandas read_csv 함수를 이용하여 읽어 df 변수에 저장하세요.** </font>"
   ]
  },
  {
   "cell_type": "code",
   "execution_count": null,
   "metadata": {
    "id": "JtlO-NTgzt59"
   },
   "outputs": [],
   "source": [
    "# 읽어 들일 파일명 : data_v2.csv\n",
    "# Pandas read_csv 함수 활용\n",
    "# 결과 : df 저장\n",
    "\n"
   ]
  },
  {
   "cell_type": "markdown",
   "metadata": {
    "id": "dY2h_-WQzt5-"
   },
   "source": [
    "#  \n",
    "# 2. EDA (Exploratory Data Analysis) 탐색적 데이터 분석"
   ]
  },
  {
   "cell_type": "markdown",
   "metadata": {
    "id": "AhWFhfq3zt5_"
   },
   "source": [
    "### 데이터 탐색하기"
   ]
  },
  {
   "cell_type": "markdown",
   "metadata": {},
   "source": [
    "##### <font color=blue> **[문제] 관측치 개수와 피쳐 개수를 적으세요.** </font>"
   ]
  },
  {
   "cell_type": "code",
   "execution_count": null,
   "metadata": {},
   "outputs": [],
   "source": [
    "\n"
   ]
  },
  {
   "cell_type": "markdown",
   "metadata": {},
   "source": [
    "##### <font color=blue> **[문제] 결측치가 있나요? 있으면 결측치 컬럼 이름과 개수를 적으세요.** </font>"
   ]
  },
  {
   "cell_type": "code",
   "execution_count": null,
   "metadata": {
    "colab": {
     "base_uri": "https://localhost:8080/",
     "height": 392
    },
    "executionInfo": {
     "elapsed": 570,
     "status": "ok",
     "timestamp": 1645514242701,
     "user": {
      "displayName": "yunwoo oh",
      "photoUrl": "https://lh3.googleusercontent.com/a/default-user=s64",
      "userId": "01035531558844683999"
     },
     "user_tz": -540
    },
    "id": "_fhnLu_Tzt5_",
    "outputId": "fc708ff9-511c-4169-a3ef-f7860ff77e08"
   },
   "outputs": [],
   "source": []
  },
  {
   "cell_type": "markdown",
   "metadata": {
    "id": "OUMKMO-xzt6C"
   },
   "source": [
    "####  \n",
    "### 통계 정보\n",
    "##### <font color=blue> **[문제] 컬럼 월 사용요금(MonthlyCharges)의 평균값은 얼마인가요? (소수점 2자리,반올림)** </font>"
   ]
  },
  {
   "cell_type": "code",
   "execution_count": null,
   "metadata": {
    "colab": {
     "base_uri": "https://localhost:8080/",
     "height": 300
    },
    "executionInfo": {
     "elapsed": 18,
     "status": "ok",
     "timestamp": 1645514242707,
     "user": {
      "displayName": "yunwoo oh",
      "photoUrl": "https://lh3.googleusercontent.com/a/default-user=s64",
      "userId": "01035531558844683999"
     },
     "user_tz": -540
    },
    "id": "Yv73rg6Fzt6C",
    "outputId": "398e837a-dbb6-49c6-886d-016bbde7d802"
   },
   "outputs": [],
   "source": [
    "\n",
    "\n"
   ]
  },
  {
   "cell_type": "markdown",
   "metadata": {},
   "source": [
    "####  \n",
    "### 데이터 분석\n",
    "##### <font color=blue> **[문제] Female 고객 중, 월 사용액(MonthlyCharges)이 가장 큰 고객 ID는?** </font>"
   ]
  },
  {
   "cell_type": "code",
   "execution_count": null,
   "metadata": {},
   "outputs": [],
   "source": []
  },
  {
   "cell_type": "markdown",
   "metadata": {
    "id": "GynhTmEpzt6D"
   },
   "source": [
    "#  \n",
    "# 3. 데이터 전처리 수행"
   ]
  },
  {
   "cell_type": "markdown",
   "metadata": {
    "id": "lm9Px7KEzt6E"
   },
   "source": [
    "####  \n",
    "### 컬럼 삭제"
   ]
  },
  {
   "cell_type": "markdown",
   "metadata": {
    "id": "gycCw_rLzt6E"
   },
   "source": [
    "##### <font color=blue> **[문제] df 데이터프레임에서 'customerID' 컬럼 삭제하세요.** </font>"
   ]
  },
  {
   "cell_type": "code",
   "execution_count": null,
   "metadata": {
    "id": "eMLDhurCzt6E"
   },
   "outputs": [],
   "source": [
    "# DataFrame drop 함수\n",
    "# 'customerID' 컬럼 삭제\n",
    "# axis=1 옵션 사용해서 컬럼단위 삭제 수행\n",
    "\n",
    "\n"
   ]
  },
  {
   "cell_type": "markdown",
   "metadata": {
    "id": "7fT9Rdfjzt6F"
   },
   "source": [
    "####  \n",
    "### 컬럼 내용 변경하기"
   ]
  },
  {
   "cell_type": "markdown",
   "metadata": {
    "id": "Nw6o9Zw5zt6F"
   },
   "source": [
    "#### TotalCharges 컬럼 타입 변경하기"
   ]
  },
  {
   "cell_type": "markdown",
   "metadata": {
    "id": "JKPmMVFlzt6G"
   },
   "source": [
    "####  \n",
    "##### <font color=blue> **[문제] df 데이터프레임의 'TotalCharges' 컬럼의 값 공백을 제거하세요.** </font>"
   ]
  },
  {
   "cell_type": "code",
   "execution_count": null,
   "metadata": {},
   "outputs": [],
   "source": [
    "#공백의 의미: ' '\n"
   ]
  },
  {
   "cell_type": "markdown",
   "metadata": {
    "id": "UMSbb4T8zt6H"
   },
   "source": [
    "####  \n",
    "##### <font color=blue> **[문제] df 데이터프레임의 'TotalCharges' 컬럼 타입을 object에서 float 변경하세요.** </font>"
   ]
  },
  {
   "cell_type": "code",
   "execution_count": null,
   "metadata": {
    "id": "NhKAXpuTzt6H"
   },
   "outputs": [],
   "source": [
    "\n"
   ]
  },
  {
   "cell_type": "markdown",
   "metadata": {},
   "source": [
    "####  \n",
    "##### <font color=blue> **[문제] Churn 컬럼의 문자열값을 조건대로 숫자로 변경하세요.** </font>"
   ]
  },
  {
   "cell_type": "code",
   "execution_count": null,
   "metadata": {
    "id": "AtOxyzm9zt6I"
   },
   "outputs": [],
   "source": [
    "# 'Churn' 컬럼의 ['Yes', 'No'] --> [1, 0] 변경하기\n"
   ]
  },
  {
   "cell_type": "markdown",
   "metadata": {
    "id": "2Hi-jVgMzt6J"
   },
   "source": [
    "####  \n",
    "### 결측치 처리\n"
   ]
  },
  {
   "cell_type": "markdown",
   "metadata": {
    "id": "tKv3QNq4zt6J"
   },
   "source": [
    "####  \n",
    "##### <font color=blue> **[문제] df 데이터프레임의 결측치 제일 많은 컬럼은 컬럼 제거하고 나머지 결측치는 Row 제거 하세요.** </font>"
   ]
  },
  {
   "cell_type": "code",
   "execution_count": null,
   "metadata": {
    "id": "83xoHjqlzt6J"
   },
   "outputs": [],
   "source": [
    "\n"
   ]
  },
  {
   "cell_type": "markdown",
   "metadata": {
    "id": "45qw-GtGzt6K"
   },
   "source": [
    "#  \n",
    "# 4. 시각화"
   ]
  },
  {
   "cell_type": "markdown",
   "metadata": {},
   "source": [
    "##### <font color=blue> **[문제] df 데이터프레임의 'PhoneService' 컬럼에 대해 seaborn의 countplot 차트를 그리세요.** </font>"
   ]
  },
  {
   "cell_type": "code",
   "execution_count": null,
   "metadata": {},
   "outputs": [],
   "source": []
  },
  {
   "cell_type": "markdown",
   "metadata": {
    "id": "YpEyB2Lyzt6O"
   },
   "source": [
    "##### <font color=blue> **[문제] 불균형 심한 'SeniorCitizen','PhoneService' 컬럼을 삭제하세요.** </font>"
   ]
  },
  {
   "cell_type": "code",
   "execution_count": null,
   "metadata": {
    "id": "vDYDOLtyzt6O",
    "scrolled": true
   },
   "outputs": [],
   "source": []
  },
  {
   "cell_type": "markdown",
   "metadata": {
    "id": "9Ec61f24zt6S"
   },
   "source": [
    "#  \n",
    "# 5. 결과 저장하기"
   ]
  },
  {
   "cell_type": "markdown",
   "metadata": {
    "id": "DhIQgEEBzt6S"
   },
   "source": [
    "## 결과를 csv 파일로 저장하기"
   ]
  },
  {
   "cell_type": "code",
   "execution_count": null,
   "metadata": {
    "id": "hUhvHzC8zt6S"
   },
   "outputs": [],
   "source": [
    "# 판다스 to_csv 함수 이용해서 'data_v1_save.csv' 파일로 저장하기\n",
    "# index=False 주어야 기존 인덱스 값이 저장되지 않음\n",
    "\n",
    "df.to_csv('data_v2_pre.csv', index=False)"
   ]
  },
  {
   "cell_type": "code",
   "execution_count": null,
   "metadata": {
    "colab": {
     "base_uri": "https://localhost:8080/",
     "height": 392
    },
    "executionInfo": {
     "elapsed": 14,
     "status": "ok",
     "timestamp": 1645514261793,
     "user": {
      "displayName": "yunwoo oh",
      "photoUrl": "https://lh3.googleusercontent.com/a/default-user=s64",
      "userId": "01035531558844683999"
     },
     "user_tz": -540
    },
    "id": "DEt2b1N7zt6S",
    "outputId": "205721dc-b4f9-4aff-efd4-0b6e106e9326"
   },
   "outputs": [],
   "source": [
    "pd.read_csv('data_v2_pre.csv').head()"
   ]
  },
  {
   "cell_type": "markdown",
   "metadata": {
    "id": "GePgMkKbzt6S"
   },
   "source": [
    "##  \n",
    "## 배운 내용 정리\n",
    "1. 필요 라이브러리 임포트 및 파일 읽어오기 : pd.read_csv()\n",
    "2. EDA (Exploratory Data Analysis) 탐색적 데이터 분석 : df.info(), df.head(), df.tail()\n",
    "3. 데이터 전처리 수행\n",
    " + 불필요 컬럼 삭제 : df.drop()\n",
    " + 컬럼 내용 변경하기 : df.replace()\n",
    " + Null 처리 : df.replace(), df.dropna()\n",
    " + 컬럼 type 변경하기 : df['col'].astype(int)\n",
    "4. 시각화\n",
    " + matplotlib\n",
    "5. 결과 저장하기\n",
    " + to_csv()"
   ]
  }
 ],
 "metadata": {
  "colab": {
   "provenance": [
    {
     "file_id": "11-ZY0t5OdmWucDVb2nh1kkW7ZI3wsyU9",
     "timestamp": 1645514304319
    }
   ]
  },
  "kernelspec": {
   "display_name": "Python 3",
   "language": "python",
   "name": "python3"
  },
  "language_info": {
   "codemirror_mode": {
    "name": "ipython",
    "version": 3
   },
   "file_extension": ".py",
   "mimetype": "text/x-python",
   "name": "python",
   "nbconvert_exporter": "python",
   "pygments_lexer": "ipython3",
   "version": "3.10.11"
  }
 },
 "nbformat": 4,
 "nbformat_minor": 0
}
