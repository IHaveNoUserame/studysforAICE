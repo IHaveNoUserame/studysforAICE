{
 "cells": [
  {
   "cell_type": "markdown",
   "metadata": {
    "id": "-8SbOMdy0FT4"
   },
   "source": [
    "# 모델링 파트"
   ]
  },
  {
   "cell_type": "markdown",
   "metadata": {
    "id": "CB9Zcdvv0FT9"
   },
   "source": [
    "## 학습목차\n",
    "1. 머신러닝 모델 프로세스\n",
    " - 데이터 가져오기\n",
    " - 데이터 전처리\n",
    " - Train, Test 데이터셋 분할\n",
    " - 데이터 정규화\n",
    " - 단일 분류예측 모델 : LogisticRegression, KNN, DecisionTree\n",
    " - 앙상블(Ensemble) 모델 : RandomForest\n",
    "2. 성능이 너무 안 나온다. 어떻게 해결할수 있을까?\n"
   ]
  },
  {
   "cell_type": "markdown",
   "metadata": {
    "id": "V085LH_00FT-"
   },
   "source": [
    "# 머신러닝 모델 프로세스\n",
    "① 라이브러리 임포트(import)  \n",
    "② 데이터 가져오기(Loading the data)  \n",
    "③ 탐색적 데이터 분석(Exploratory Data Analysis)  \n",
    "④ 데이터 전처리(Data PreProcessing) : 데이터타입 변환, Null 데이터 처리, 누락데이터 처리,\n",
    "더미특성 생성, 특성 추출 (feature engineering) 등  \n",
    "⑤ Train, Test  데이터셋 분할  \n",
    "⑥ 데이터 정규화(Normalizing the Data)  \n",
    "⑦ 모델 개발(Creating the Model)  \n",
    "⑧ 모델 성능 평가"
   ]
  },
  {
   "cell_type": "markdown",
   "metadata": {},
   "source": [
    "##### <font color=red> **[매우 중요] 분류인가? 회귀인가?** </font>\n"
   ]
  },
  {
   "cell_type": "markdown",
   "metadata": {},
   "source": [
    "라벨(Label)이 0과 1로 이루어지 범주형이므로 \n",
    "이진 분류 알고리즘을 사용하여 모델링 해야함."
   ]
  },
  {
   "cell_type": "markdown",
   "metadata": {
    "id": "AY9RWMZE0FT_"
   },
   "source": [
    "## 1. 라이브러리 임포트"
   ]
  },
  {
   "cell_type": "markdown",
   "metadata": {
    "id": "ZARhtnLw0FUA"
   },
   "source": [
    "##### 필요 라이브러리 임포트"
   ]
  },
  {
   "cell_type": "code",
   "execution_count": null,
   "metadata": {
    "id": "VY4TxgQj0FUA"
   },
   "outputs": [],
   "source": [
    "import pandas as pd\n",
    "import numpy as np\n",
    "import matplotlib.pyplot as plt\n",
    "\n",
    "#데이터 분할\n",
    "from sklearn.model_selection import train_test_split   \n",
    "\n",
    "#분류 알고리즘\n",
    "from sklearn.linear_model import LogisticRegression\n",
    "from sklearn.tree import DecisionTreeClassifier\n",
    "from sklearn.ensemble import RandomForestClassifier\n",
    "\n",
    "#분류 평가지표\n",
    "from sklearn.metrics import accuracy_score, precision_score , recall_score, f1_score\n",
    "from sklearn.metrics import confusion_matrix\n",
    "from sklearn.metrics import classification_report\n",
    "\n",
    "# 경고메세지 끄기\n",
    "import warnings\n",
    "warnings.filterwarnings(action='ignore')"
   ]
  },
  {
   "cell_type": "markdown",
   "metadata": {
    "id": "WLHB9VMx0FUC"
   },
   "source": [
    "## 2. 데이터 로드"
   ]
  },
  {
   "cell_type": "markdown",
   "metadata": {
    "id": "UVuC6FaG0FUD"
   },
   "source": [
    "#### data_v2_pre.csv 파일 읽어오기"
   ]
  },
  {
   "cell_type": "code",
   "execution_count": null,
   "metadata": {
    "id": "HvNm0L830FUD"
   },
   "outputs": [],
   "source": [
    "# 앞쪽 전처리에서 저장한 data_v2_pre.csv 파일 읽기\n",
    "df = pd.read_csv('data_v2_pre.csv')"
   ]
  },
  {
   "cell_type": "markdown",
   "metadata": {
    "id": "4V5lNvqe0FUE"
   },
   "source": [
    "## 3. 데이터 분석"
   ]
  },
  {
   "cell_type": "code",
   "execution_count": null,
   "metadata": {
    "colab": {
     "base_uri": "https://localhost:8080/"
    },
    "executionInfo": {
     "elapsed": 4,
     "status": "ok",
     "timestamp": 1689473099153,
     "user": {
      "displayName": "yunwoo1 oh",
      "userId": "16793929776797608340"
     },
     "user_tz": -540
    },
    "id": "_6v_Ai8e0FUF",
    "outputId": "9a958971-c574-43bd-e3ab-a39965786ef9"
   },
   "outputs": [],
   "source": [
    "# 17컬럼, 7,016 라인\n",
    "df.info()"
   ]
  },
  {
   "cell_type": "markdown",
   "metadata": {
    "id": "jIh8NmeQ0FUH"
   },
   "source": [
    "## 4. 데이터 전처리"
   ]
  },
  {
   "cell_type": "markdown",
   "metadata": {
    "id": "q-nhs1qF0FUH"
   },
   "source": [
    "+ 모든 데이터값들은 숫자형으로 되어야 한다. 즉, Ojbect 타입을 모든 숫자형 변경 필요\n",
    "+ 순서없는 범주형 데이터를 숫자형을 변환시 LabelEncoder 활용 가능\n",
    "+ Object 컬럼에 대해 Pandas get_dummies 함수 활용하여 One-Hot-Encoding"
   ]
  },
  {
   "cell_type": "markdown",
   "metadata": {},
   "source": [
    "##### <font color=blue> **[문제] gender 컬럼에 대해 LabelEncoder 활용하여 Female -> 0, Male -> 1 (알파벳 순으로) 인코딩하시오.** </font>"
   ]
  },
  {
   "cell_type": "code",
   "execution_count": null,
   "metadata": {
    "id": "C1W5dwzPbpcZ"
   },
   "outputs": [],
   "source": [
    "\n"
   ]
  },
  {
   "cell_type": "markdown",
   "metadata": {},
   "source": [
    "##### <font color=blue> **[문제] 타입이 Object인 컬럼에 대해 One-Hot-Encoding 수행하고 그 결과를 df1 변수에 저장하세요.** </font>"
   ]
  },
  {
   "cell_type": "code",
   "execution_count": null,
   "metadata": {
    "id": "nrO_PFhQ0FUK"
   },
   "outputs": [],
   "source": [
    "# Pandas get_dummies() 함수 이용\n",
    "# 원-핫-인코딩 결과를 df1 저장\n"
   ]
  },
  {
   "cell_type": "markdown",
   "metadata": {
    "id": "S_vS5S6s0FUL"
   },
   "source": [
    "## 5. Train, Test  데이터셋 분할"
   ]
  },
  {
   "cell_type": "markdown",
   "metadata": {
    "id": "6-OtRis00FUL"
   },
   "source": [
    "#### 입력(x_data)과 레이블(y_data) 나누기"
   ]
  },
  {
   "cell_type": "markdown",
   "metadata": {
    "id": "E3uUWsZA0FUM"
   },
   "source": [
    "##### <font color=blue> **[문제] df1 DataFrame에서 'Churn' 컬럼을 제외한 나머지 정보를 x_data에 저장하세요.** </font>"
   ]
  },
  {
   "cell_type": "code",
   "execution_count": null,
   "metadata": {
    "id": "sOUAhknI0FUM"
   },
   "outputs": [],
   "source": [
    "# DataFrame drop 함수 활용\n",
    "# 'Churn' 컬럼 삭제\n",
    "# DataFrame에서 values만 x_data에 저장\n",
    "\n"
   ]
  },
  {
   "cell_type": "markdown",
   "metadata": {
    "id": "ZaSeXul50FUM"
   },
   "source": [
    "##### <font color=blue> **[문제] df1 DataFrame에서 'Churn' 컬럼을 y_data로 저장하세요.** </font>"
   ]
  },
  {
   "cell_type": "code",
   "execution_count": null,
   "metadata": {
    "id": "VHOezJtl0FUM"
   },
   "outputs": [],
   "source": [
    "# DataFrame 'Churn' 컬럼 사용\n",
    "# DataFrame에서 values만 y_data에 저장\n"
   ]
  },
  {
   "cell_type": "markdown",
   "metadata": {
    "id": "rfmrbAUZ0FUN"
   },
   "source": [
    "#### Train , Test dataset 나누기"
   ]
  },
  {
   "cell_type": "markdown",
   "metadata": {
    "id": "5-pMRPi50FUN"
   },
   "source": [
    "##### <font color=blue> **[문제] Train dataset, Test dataset 나누세요.** </font>"
   ]
  },
  {
   "cell_type": "code",
   "execution_count": null,
   "metadata": {
    "id": "J9Tpju4m0FUN"
   },
   "outputs": [],
   "source": [
    "# Train dataset, Test dataset 나누기 : train_test_split 함수 사용\n",
    "# 입력 : x_data, y_data\n",
    "# Train : Test 비율 = 7: 3  --> test_size=0.3\n",
    "# y Class 비율에 맞게 나누기 : stratify=y_data\n",
    "# 여러번 수행해도 같은 결과 나오게 고정하기 : random_state=42\n",
    "# 결과 : x_train, x_test, y_train, y_test\n",
    "\n",
    "\n"
   ]
  },
  {
   "cell_type": "markdown",
   "metadata": {
    "id": "6dcPNr_E0FUO"
   },
   "source": [
    "## 6. 데이터 정규화/스케일링(Normalizing/Scaling)"
   ]
  },
  {
   "cell_type": "markdown",
   "metadata": {
    "id": "YYL7jH_z0FUP"
   },
   "source": [
    "##### <font color=blue> **[문제] MinMaxScaler 함수를 사용하여 x_train, x_test에 적용하세요.** </font>"
   ]
  },
  {
   "cell_type": "code",
   "execution_count": null,
   "metadata": {
    "id": "ml2_SprW0FUQ"
   },
   "outputs": [],
   "source": [
    "# 사이킷런의 MinMaxScaler() 함수 활용\n",
    "# 정의한 결과를 'scaler' 변수로 할당\n"
   ]
  },
  {
   "cell_type": "markdown",
   "metadata": {
    "id": "v5XRNq100FUQ"
   },
   "source": [
    "## 7 모델 개발"
   ]
  },
  {
   "cell_type": "markdown",
   "metadata": {},
   "source": [
    "##### <font color=blue> **[문제] RandomForest 알고리즘을 사용하여 모델을 개발하시오**  </font>"
   ]
  },
  {
   "cell_type": "code",
   "execution_count": null,
   "metadata": {},
   "outputs": [],
   "source": [
    "\n"
   ]
  },
  {
   "cell_type": "markdown",
   "metadata": {
    "id": "fUKskwle0YIM"
   },
   "source": [
    "## 7 딥러닝 심층신경망(DNN) 모델 구현"
   ]
  },
  {
   "cell_type": "markdown",
   "metadata": {
    "id": "-qtH1IV_0YIM"
   },
   "source": [
    "####  \n",
    "### 라이브러리 임포트"
   ]
  },
  {
   "cell_type": "code",
   "execution_count": null,
   "metadata": {
    "id": "xZ-81qT80YIM"
   },
   "outputs": [],
   "source": [
    "#딥러닝용 라이브러리\n",
    "import tensorflow as tf\n",
    "from tensorflow.keras.models import Sequential\n",
    "from tensorflow.keras.layers import Dense, Dropout\n",
    "from tensorflow.keras.optimizers import Adam\n",
    "from tensorflow.keras.callbacks import EarlyStopping, ModelCheckpoint\n",
    "\n",
    "tf.random.set_seed(100)"
   ]
  },
  {
   "cell_type": "markdown",
   "metadata": {},
   "source": [
    "####  \n",
    "### 모델 입력(feature) 갯수 확인"
   ]
  },
  {
   "cell_type": "code",
   "execution_count": null,
   "metadata": {
    "colab": {
     "base_uri": "https://localhost:8080/"
    },
    "executionInfo": {
     "elapsed": 5,
     "status": "ok",
     "timestamp": 1689473182588,
     "user": {
      "displayName": "yunwoo1 oh",
      "userId": "16793929776797608340"
     },
     "user_tz": -540
    },
    "id": "zCUyUw6J0YIN",
    "outputId": "fa75fa9c-aace-4e00-9d20-a8f98e6fe54e"
   },
   "outputs": [],
   "source": [
    "x_train.shape"
   ]
  },
  {
   "cell_type": "markdown",
   "metadata": {
    "id": "L1mqWzpz0YIN"
   },
   "source": [
    "####  \n",
    "### 모델 출력(label) 갯수 확인"
   ]
  },
  {
   "cell_type": "code",
   "execution_count": null,
   "metadata": {
    "colab": {
     "base_uri": "https://localhost:8080/"
    },
    "executionInfo": {
     "elapsed": 4,
     "status": "ok",
     "timestamp": 1689473184860,
     "user": {
      "displayName": "yunwoo1 oh",
      "userId": "16793929776797608340"
     },
     "user_tz": -540
    },
    "id": "kzVC8VGO0YIN",
    "outputId": "dadedc66-87d1-4839-cf20-94fe737c5672"
   },
   "outputs": [],
   "source": [
    "y_train.shape"
   ]
  },
  {
   "cell_type": "markdown",
   "metadata": {
    "id": "1zLx5_rB0YIO"
   },
   "source": [
    "####  \n",
    "### 이진분류 DNN모델 구성"
   ]
  },
  {
   "cell_type": "markdown",
   "metadata": {},
   "source": [
    "![](data:image/png;base64,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)"
   ]
  },
  {
   "cell_type": "markdown",
   "metadata": {},
   "source": [
    "##### <font color=blue> **[문제] 과적합 방지를 위해 dropout 0.3을 적용해서 Sequential 모델을 만들어 보세요.** </font>\n",
    "\n",
    "- 히든 레이어는 2개층으로\n",
    "- dropout은 1개층 이상적용\n",
    "- accuracy 기반으로 평가"
   ]
  },
  {
   "cell_type": "code",
   "execution_count": null,
   "metadata": {
    "id": "hTZ0lfsB0YIP"
   },
   "outputs": [],
   "source": []
  },
  {
   "cell_type": "markdown",
   "metadata": {
    "id": "1VOruMmv0YIQ"
   },
   "source": [
    "####  \n",
    "### 모델 컴파일 – 이진 분류 모델"
   ]
  },
  {
   "cell_type": "code",
   "execution_count": null,
   "metadata": {
    "id": "nVZnbiNp0YIQ"
   },
   "outputs": [],
   "source": []
  },
  {
   "cell_type": "markdown",
   "metadata": {
    "id": "rTX4ExMb0YIR"
   },
   "source": [
    "####  \n",
    "### 모델 학습"
   ]
  },
  {
   "cell_type": "markdown",
   "metadata": {
    "id": "l-H8W9R80YIR"
   },
   "source": [
    "##### <font color=blue> **[문제] 요구사항대로 DNN 모델을 학습시키세요.** </font>"
   ]
  },
  {
   "cell_type": "code",
   "execution_count": null,
   "metadata": {
    "colab": {
     "base_uri": "https://localhost:8080/"
    },
    "executionInfo": {
     "elapsed": 21521,
     "status": "ok",
     "timestamp": 1689473336009,
     "user": {
      "displayName": "yunwoo1 oh",
      "userId": "16793929776797608340"
     },
     "user_tz": -540
    },
    "id": "l0VkwonN0YIS",
    "outputId": "32b4af8d-e30b-4641-a1c1-5517b8b7bbf7"
   },
   "outputs": [],
   "source": [
    "# 앞쪽에서 정의된 모델 이름 : model\n",
    "# Sequential 모델의 fit() 함수 사용\n",
    "# @인자\n",
    "### X, y : x_train, y_train\n",
    "### validation_data=(x_test, y_test)\n",
    "### epochs 10번\n",
    "### batch_size 10번\n",
    "#훈련 결과를 hist 변수에 할당\n",
    "\n"
   ]
  },
  {
   "cell_type": "markdown",
   "metadata": {
    "id": "qsohXyXZ0YIT"
   },
   "source": [
    "####  \n",
    "### Callback : 조기종료, 모델 저장"
   ]
  },
  {
   "cell_type": "code",
   "execution_count": null,
   "metadata": {
    "id": "hoOULwhL0YIU"
   },
   "outputs": [],
   "source": [
    "# val_loss 모니터링해서 성능이 5번 지나도록 좋아지지 않으면 조기 종료\n",
    "\n",
    "early_stop = EarlyStopping(monitor='val_loss', patience=5)\n",
    "check_point = ModelCheckpoint('best_model.h5', monitor='val_loss',save_best_only=True)\n",
    "\n",
    "hist = model.fit(x_train, y_train, epochs=10 ,batch_size=10, \n",
    "                    validation_data=(x_test, y_test),\n",
    "                    callbacks=[early_stop,check_point])"
   ]
  },
  {
   "cell_type": "markdown",
   "metadata": {
    "id": "pWF_TAU-0YIV"
   },
   "source": [
    "####  \n",
    "## 8 모델 성능 평가"
   ]
  },
  {
   "cell_type": "code",
   "execution_count": null,
   "metadata": {},
   "outputs": [],
   "source": [
    "########모델 평가\n",
    "loss,acc = model.evaluate(x_test, y_test, verbose=0)\n",
    "print(f'정확도: {acc:.3f}')      "
   ]
  },
  {
   "cell_type": "markdown",
   "metadata": {
    "id": "LwkmcZV90YIV"
   },
   "source": [
    "### 성능 시각화"
   ]
  },
  {
   "cell_type": "code",
   "execution_count": null,
   "metadata": {
    "colab": {
     "base_uri": "https://localhost:8080/",
     "height": 472
    },
    "executionInfo": {
     "elapsed": 530,
     "status": "ok",
     "timestamp": 1689473454325,
     "user": {
      "displayName": "yunwoo1 oh",
      "userId": "16793929776797608340"
     },
     "user_tz": -540
    },
    "id": "p3Z4OGG40YIW",
    "outputId": "f5ecf6dc-2f05-44a1-fd09-5d979f6e9495",
    "scrolled": true
   },
   "outputs": [],
   "source": [
    "import matplotlib.pyplot as plt\n",
    "\n",
    "plt.figure(figsize=(15,6))\n",
    "plt.subplot(1,2,1)\n",
    "plt.plot(hist.history['loss'],label='train loss')\n",
    "plt.plot(hist.history['val_loss'],label='validation loss')\n",
    "plt.title('Loss')\n",
    "plt.xlabel('epochs')\n",
    "plt.ylabel('loss')\n",
    "plt.legend()\n",
    "\n",
    "plt.subplot(1,2,2)\n",
    "plt.plot(hist.history['accuracy'],label='accuracy')\n",
    "plt.plot(hist.history['val_accuracy'],label='validation accuracy')\n",
    "plt.title('Accuracy')\n",
    "plt.xlabel('epochs')\n",
    "plt.ylabel('accuracy')\n",
    "plt.legend()\n",
    "\n",
    "plt.show()"
   ]
  },
  {
   "cell_type": "markdown",
   "metadata": {
    "id": "7897QYB80YIb"
   },
   "source": [
    "#  \n",
    "# 2. 성능이 좋지 않다. 어떻게 성능향상 할수 있나?\n",
    "+ 가장 간단한 방법은 히든 레이어를 추가를 추천\n",
    "+ 노드수를 증가"
   ]
  },
  {
   "cell_type": "markdown",
   "metadata": {
    "id": "pXNCh5DU0YId"
   },
   "source": [
    "####  \n",
    "### 모델 개발(Creating the Model)"
   ]
  },
  {
   "cell_type": "code",
   "execution_count": null,
   "metadata": {
    "id": "aqHIkUKF0YIe"
   },
   "outputs": [],
   "source": [
    "\n",
    "model = Sequential()\n",
    "model.add(Dense(64, activation='relu', input_shape=(38,)))\n",
    "model.add(Dropout(0.3))\n",
    "model.add(Dense(32, activation='relu'))\n",
    "model.add(Dropout(0.3))\n",
    "model.add(Dense(16, activation='relu'))\n",
    "model.add(Dropout(0.3))\n",
    "model.add(Dense(1, activation='sigmoid'))\n"
   ]
  },
  {
   "cell_type": "code",
   "execution_count": null,
   "metadata": {
    "id": "Q11y4xL00YIe"
   },
   "outputs": [],
   "source": [
    "model.compile(loss='binary_crossentropy',optimizer=Adam(),metrics=['accuracy'])#------------>이진분류"
   ]
  },
  {
   "cell_type": "code",
   "execution_count": null,
   "metadata": {
    "colab": {
     "base_uri": "https://localhost:8080/"
    },
    "executionInfo": {
     "elapsed": 6059,
     "status": "ok",
     "timestamp": 1689473662367,
     "user": {
      "displayName": "yunwoo1 oh",
      "userId": "16793929776797608340"
     },
     "user_tz": -540
    },
    "id": "-VXAZpC00YIe",
    "outputId": "eccb6ede-14bd-441c-cbcd-96ff7cdfdf8d"
   },
   "outputs": [],
   "source": [
    "# val_loss 모니터링해서 성능이 5번 지나도록 좋아지지 않으면 조기 종료\n",
    "\n",
    "early_stop = EarlyStopping(monitor='val_loss', patience=5)\n",
    "check_point = ModelCheckpoint('best_model.h5', monitor='val_loss',save_best_only=True)\n",
    "\n",
    "hist = model.fit(x_train, y_train, epochs=50 , batch_size=32,\n",
    "                    validation_data=(x_test, y_test),\n",
    "                    callbacks=[early_stop,check_point])\n"
   ]
  },
  {
   "cell_type": "markdown",
   "metadata": {
    "id": "gEARelPF0YIf"
   },
   "source": [
    "####  \n",
    "### 모델 성능 평가"
   ]
  },
  {
   "cell_type": "code",
   "execution_count": null,
   "metadata": {},
   "outputs": [],
   "source": [
    "loss,acc = model.evaluate(x_test, y_test)\n",
    "print(f'Loss:{loss:.3f} Accuracy:{acc:.3f}')"
   ]
  },
  {
   "cell_type": "markdown",
   "metadata": {
    "id": "D-Jy63Ku0YIf"
   },
   "source": [
    "#### 성능 시각화"
   ]
  },
  {
   "cell_type": "code",
   "execution_count": null,
   "metadata": {
    "colab": {
     "base_uri": "https://localhost:8080/",
     "height": 472
    },
    "executionInfo": {
     "elapsed": 982,
     "status": "ok",
     "timestamp": 1689473508036,
     "user": {
      "displayName": "yunwoo1 oh",
      "userId": "16793929776797608340"
     },
     "user_tz": -540
    },
    "id": "Dscj1l_C0YIg",
    "outputId": "f3e4b2b0-634c-483c-abb1-08357405aa74",
    "scrolled": true
   },
   "outputs": [],
   "source": [
    "import matplotlib.pyplot as plt\n",
    "plt.figure(figsize=(15,6))\n",
    "plt.subplot(1,2,1)\n",
    "plt.plot(hist.history['loss'],label='train loss')\n",
    "plt.plot(hist.history['val_loss'],label='validation loss')\n",
    "plt.title('Loss')\n",
    "plt.xlabel('epochs')\n",
    "plt.ylabel('loss')\n",
    "plt.legend()\n",
    "\n",
    "plt.subplot(1,2,2)\n",
    "plt.plot(hist.history['accuracy'],label='accuracy')\n",
    "plt.plot(hist.history['val_accuracy'],label='validation accuracy')\n",
    "plt.title('Accuracy')\n",
    "plt.xlabel('epochs')\n",
    "plt.ylabel('accuracy')\n",
    "plt.legend()\n",
    "\n",
    "plt.show()"
   ]
  },
  {
   "cell_type": "markdown",
   "metadata": {
    "id": "KsnemPIy0YIi"
   },
   "source": [
    "###  \n",
    "## 배운 내용 정리\n",
    "1. 딥러닝 심층신경망(DNN) 모델 프로세스\n",
    " + 데이터 가져오기\n",
    " + 데이터 전처리\n",
    " + Train, Test 데이터셋 분할\n",
    " + 데이터 정규화\n",
    " + DNN 딥러닝 모델\n",
    "2. 성능이 좋지 않다. 어떻게 성능향상 방법은?\n",
    " + 네트워크를 좀 더 복잡하게 구성하였다.\n",
    " + 히든 레이어를 한개층 추가하였다. \n",
    " "
   ]
  }
 ],
 "metadata": {
  "colab": {
   "provenance": []
  },
  "kernelspec": {
   "display_name": "Python 3",
   "language": "python",
   "name": "python3"
  },
  "language_info": {
   "codemirror_mode": {
    "name": "ipython",
    "version": 3
   },
   "file_extension": ".py",
   "mimetype": "text/x-python",
   "name": "python",
   "nbconvert_exporter": "python",
   "pygments_lexer": "ipython3",
   "version": "3.10.11"
  }
 },
 "nbformat": 4,
 "nbformat_minor": 0
}
